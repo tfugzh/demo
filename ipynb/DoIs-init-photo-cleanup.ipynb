{
 "cells": [
  {
   "cell_type": "markdown",
   "metadata": {},
   "source": [
    "# DoIs-TFUG珠海\n",
    "[关于 TFUG珠海 . TFUG Livin ZhuHai Life;-)](http://zh.tfug.world/about/)\n",
    "\n",
    "- 活动: [TensorFlow Codelab 珠海 \\| Meetup](https://www.meetup.com/TensorFlow-User-Group-Zhuhai/events/265555365/)\n",
    "- 项目: [DoIs](https://github.com/tfugzh/demo/tree/master/DoIs)\n"
   ]
  },
  {
   "cell_type": "markdown",
   "metadata": {},
   "source": [
    "## 目标\n",
    "[\\[DoIs\\] 原始数据集整理 · Issue #2 · tfugzh/demo](https://github.com/tfugzh/demo/issues/2)\n",
    "\n",
    "为进入 AI 模型批量训练, 先整理图片自动化处理工具, 自动批量:\n",
    "\n",
    "- [ ] 加载\n",
    "- [ ] 裁剪\n",
    "- [ ] 单色\n",
    "- [ ] 边缘强化\n",
    "- [ ] 反转\n",
    "- [ ] .npz 集成\n"
   ]
  },
  {
   "cell_type": "markdown",
   "metadata": {},
   "source": [
    "## 结构\n",
    "> 基本技术配置\n",
    "\n",
    "- 用 Python 3\n",
    "- 基于 miniconda3 进行运行时版本环境构造\n",
    "- 配置使用 aliyun 的 PyPi 仓库加速模块安装\n",
    "- 先通过脚本原型完成所有代码的探索, 再整理为 ipynb 思考过程记述\n"
   ]
  },
  {
   "cell_type": "markdown",
   "metadata": {},
   "source": [
    "# 图片处置\n"
   ]
  },
  {
   "cell_type": "code",
   "execution_count": null,
   "metadata": {},
   "outputs": [],
   "source": []
  },
  {
   "cell_type": "code",
   "execution_count": null,
   "metadata": {},
   "outputs": [],
   "source": []
  },
  {
   "cell_type": "code",
   "execution_count": null,
   "metadata": {},
   "outputs": [],
   "source": []
  },
  {
   "cell_type": "code",
   "execution_count": null,
   "metadata": {},
   "outputs": [],
   "source": []
  },
  {
   "cell_type": "code",
   "execution_count": null,
   "metadata": {},
   "outputs": [],
   "source": []
  },
  {
   "cell_type": "markdown",
   "metadata": {},
   "source": [
    "# 后续流程\n",
    "> Keras 用 TensorFlow 识别手写数字\n",
    "\n",
    "...基于标准 MNSIT 数据集\n"
   ]
  },
  {
   "cell_type": "code",
   "execution_count": 5,
   "metadata": {},
   "outputs": [],
   "source": [
    "# fix a random seed for reproducibility\n",
    "# 注意,这里调节 np 的随机核, 必须在加载 keras 系列模块前先导入, 否则....\n",
    "import numpy as np\n",
    "#np.random.seed(123)\n",
    "np.random.seed(9)"
   ]
  },
  {
   "cell_type": "code",
   "execution_count": 19,
   "metadata": {},
   "outputs": [],
   "source": [
    "# 加载一系列依赖模块\n",
    "import keras\n",
    "from keras.datasets import mnist\n",
    "from keras.models import Sequential\n",
    "from keras.models import save_model,load_model\n",
    "from keras.layers import Conv2D,MaxPool2D,Dense,Flatten, Activation\n",
    "from keras.layers.core import Dense, Activation, Dropout\n",
    "from keras.callbacks import TensorBoard\n",
    "\n",
    "from keras.utils import plot_model\n",
    "from keras.utils import np_utils\n"
   ]
  },
  {
   "cell_type": "code",
   "execution_count": 20,
   "metadata": {},
   "outputs": [],
   "source": [
    "# 各种基本参数\n",
    "# 训练次数...为节约时间, 可以调低\n",
    "#nb_epoch = 25\n",
    "nb_epoch = 12\n",
    "\n",
    "num_classes = 10\n",
    "batch_size = 128\n",
    "train_size = 60000\n",
    "test_size = 10000\n",
    "\n",
    "# 横向长度...图片压缩目标\n",
    "v_length = 784\n"
   ]
  },
  {
   "cell_type": "markdown",
   "metadata": {},
   "source": [
    "> 技巧:\n",
    "\n",
    "官方各种代码都是通过 `mnist.load_data()` 试图自动下载:\n",
    "https://s3.amazonaws.com/img-datasets/mnist.npz\n",
    "\n",
    "可惜是的, 这儿距离中国太远, 下载速度非常感人, 只能用其它技术手段先下载到本地,\n",
    "以便 Jupyter 可以从本地加载,\n",
    "\n",
    "大家在运行时, 请:\n",
    "\n",
    "- 先下载:[mnist.npz](http://ipynb.zoomquiet.top/data/mnist.npz)\n",
    "- 放到 jupyter notebook 运行目录中\n",
    "\n",
    "- 和 `tfug-zh-dama-keras-demo-handwritten-digit-recognition.ipynb` 同一层目录\n",
    "\n",
    "即可;-)"
   ]
  },
  {
   "cell_type": "code",
   "execution_count": 21,
   "metadata": {},
   "outputs": [],
   "source": [
    "# 基于事先下载的 .npz 数据集,改写官方数据加载函式,变成自己的本地加载函式\n",
    "def locload_data(path='mnist.npz'):\n",
    "    f = np.load(path)\n",
    "    x_train, y_train = f['x_train'], f['y_train']\n",
    "    x_test, y_test = f['x_test'], f['y_test']\n",
    "    f.close()\n",
    "    return (x_train, y_train), (x_test, y_test)\n",
    "\n",
    "# 将数据读入\n",
    "(x_train, y_train), (x_test, y_test) = locload_data()\n",
    "# split the mnist data into train and test\n",
    "#(trainData, trainLabels), (testData, testLabels) = mnist.load_data()\n",
    "(trainData, trainLabels), (testData, testLabels) = locload_data()\n",
    "\n"
   ]
  },
  {
   "cell_type": "markdown",
   "metadata": {},
   "source": [
    "## 检验加载数据维度"
   ]
  },
  {
   "cell_type": "code",
   "execution_count": 22,
   "metadata": {},
   "outputs": [
    {
     "name": "stdout",
     "output_type": "stream",
     "text": [
      "[INFO] train data shape: (60000, 28, 28)\n",
      "[INFO] test data shape: (10000, 28, 28)\n",
      "[INFO] train samples: 60000\n",
      "[INFO] test samples: 10000\n"
     ]
    }
   ],
   "source": [
    "#print(\"训练数据集:\\n\", x_train.shape,y_train.shape,\"\\n测试数据集:\\n\",x_test.shape,y_test.shape)\n",
    "print(\"[INFO] train data shape: {}\".format(trainData.shape))\n",
    "print(\"[INFO] test data shape: {}\".format(testData.shape))\n",
    "print(\"[INFO] train samples: {}\".format(trainData.shape[0]))\n",
    "print(\"[INFO] test samples: {}\".format(testData.shape[0]))\n"
   ]
  },
  {
   "cell_type": "code",
   "execution_count": 23,
   "metadata": {},
   "outputs": [
    {
     "name": "stdout",
     "output_type": "stream",
     "text": [
      "6 0 4 1\n"
     ]
    },
    {
     "data": {
      "image/png": "[encoded data removed]",
      "text/plain": [
       "<Figure size 432x288 with 4 Axes>"
      ]
     },
     "metadata": {
      "needs_background": "light"
     },
     "output_type": "display_data"
    }
   ],
   "source": [
    "import matplotlib.pyplot as plt\n",
    "\n",
    "# 训练数据集抽查, plot 4 images as gray scale\n",
    "plt.subplot(221)\n",
    "print(y_train[4546],y_train[1],y_train[2],y_train[3])\n",
    "plt.imshow(x_train[4546], cmap=plt.get_cmap('gray'))\n",
    "plt.subplot(222)\n",
    "plt.imshow(x_train[1], cmap=plt.get_cmap('gray'))\n",
    "plt.subplot(223)\n",
    "plt.imshow(x_train[2], cmap=plt.get_cmap('gray'))\n",
    "plt.subplot(224)\n",
    "plt.imshow(x_train[3], cmap=plt.get_cmap('gray'))\n",
    "# show the plot\n",
    "plt.show()"
   ]
  },
  {
   "cell_type": "markdown",
   "metadata": {},
   "source": [
    "##  格式化数据集"
   ]
  },
  {
   "cell_type": "code",
   "execution_count": 24,
   "metadata": {},
   "outputs": [
    {
     "name": "stdout",
     "output_type": "stream",
     "text": [
      "[INFO] train data shape: (60000, 784)\n",
      "[INFO] test data shape: (10000, 784)\n",
      "[INFO] train samples: 60000\n",
      "[INFO] test samples: 10000\n"
     ]
    }
   ],
   "source": [
    "# reshape the dataset\n",
    "trainData = trainData.reshape(train_size, v_length)\n",
    "testData = testData.reshape(test_size, v_length)\n",
    "trainData = trainData.astype(\"float32\")\n",
    "testData = testData.astype(\"float32\")\n",
    "trainData /= 255\n",
    "testData /= 255\n",
    "\n",
    "print(\"[INFO] train data shape: {}\".format(trainData.shape))\n",
    "print(\"[INFO] test data shape: {}\".format(testData.shape))\n",
    "print(\"[INFO] train samples: {}\".format(trainData.shape[0]))\n",
    "print(\"[INFO] test samples: {}\".format(testData.shape[0]))\n"
   ]
  },
  {
   "cell_type": "code",
   "execution_count": 25,
   "metadata": {},
   "outputs": [],
   "source": [
    "# convert class vectors to binary class matrices --> one-hot encoding\n",
    "mTrainLabels = np_utils.to_categorical(trainLabels, num_classes)\n",
    "mTestLabels = np_utils.to_categorical(testLabels, num_classes)"
   ]
  },
  {
   "cell_type": "code",
   "execution_count": null,
   "metadata": {},
   "outputs": [],
   "source": []
  },
  {
   "cell_type": "code",
   "execution_count": null,
   "metadata": {},
   "outputs": [],
   "source": []
  },
  {
   "cell_type": "markdown",
   "metadata": {},
   "source": [
    "# refer.\n",
    "\n",
    "- [面向机器学习初学者的 MNIST 初级教程](http://tensorfly.cn/tfdoc/tutorials/mnist_beginners.html)\n",
    "- [Handwritten Digit Recognition using Deep Learning, Keras and Python – Gogul Ilango](https://gogul09.github.io/software/digits-recognition-mlp)\n",
    "    + [Dwijraj/Hand-Written-Digit-Recognition: This is a repository with various classifier written in jupyter notebook that works on hand written digits images.](https://github.com/Dwijraj/Hand-Written-Digit-Recognition)\n",
    "    + [keras/mnist_cnn.py at master · keras-team/keras](https://github.com/keras-team/keras/blob/master/examples/mnist_cnn.py)\n",
    "    + [kerasのmnistのサンプルを読んでみる - Qiita](https://qiita.com/ash8h/items/29e24fc617b832fba136)\n",
    "- [基于Keras+CNN的MNIST数据集手写数字分类 - 简书](https://www.jianshu.com/p/3a8b310227e6)\n",
    "    + [Keras_mnist学习 - 简书](https://www.jianshu.com/p/769fb8d6cab0)\n",
    "    + [keras实现mnist数据集手写数字识别 - 胡卫雄 - 博客园](https://www.cnblogs.com/ncuhwxiong/p/9774515.html)\n",
    "    + [深度学习：基于keras的mnist手写数字识别 | AI柠檬](https://blog.ailemon.me/2018/05/11/deep-learning-mnist-handwritten-digit-recognition-by-keras/)\n",
    "- ...\n"
   ]
  },
  {
   "cell_type": "markdown",
   "metadata": {},
   "source": [
    "## env.\n",
    "> 嗯哼一下, 大妈演示时用的环境, 大家可以根据自己的情况配置合适的...\n",
    "\n",
    "```\n",
    "\n",
    "༄  screenfetch\n",
    "\n",
    "                 -/+:.          zoomq@ZQ160626rMBP\n",
    "                :++++.          OS: 64bit Mac OS X 10.12.6 16G2128\n",
    "               /+++/.           Kernel: x86_64 Darwin 16.7.0\n",
    "       .:-::- .+/:-``.::-       Uptime: 1d 14h 51m\n",
    "    .:/++++++/::::/++++++/:`    Packages: 235\n",
    "  .:///////////////////////:`   Shell: bash\n",
    "  ////////////////////////`     Resolution: 2560x1600\n",
    " -+++++++++++++++++++++++`      DE: Aqua\n",
    " /++++++++++++++++++++++/       WM: Quartz Compositor\n",
    " /sssssssssssssssssssssss.      WM Theme: Blue\n",
    " :ssssssssssssssssssssssss-     CPU: Intel Core i7-5557U @ 3.10GHz\n",
    "  osssssssssssssssssssssssso/`  GPU: Intel Iris Graphics 6100\n",
    "  `syyyyyyyyyyyyyyyyyyyyyyyy+`  RAM: 8996MiB / 16384MiB\n",
    "   `ossssssssssssssssssssss/\n",
    "     :ooooooooooooooooooo+.\n",
    "      `:+oo+/:-..-:/+o+/-\n",
    "\n",
    "\n",
    "\n",
    "༄  conda info\n",
    "\n",
    "     active environment : keras\n",
    "    active env location : /Users/zoomq/miniconda3/envs/keras\n",
    "            shell level : 1\n",
    "       user config file : /Users/zoomq/.condarc\n",
    " populated config files : /Users/zoomq/.condarc\n",
    "          conda version : 4.6.14\n",
    "    conda-build version : not installed\n",
    "         python version : 3.7.3.final.0\n",
    "       base environment : /Users/zoomq/miniconda3  (writable)\n",
    "           channel URLs : https://repo.anaconda.com/pkgs/main/osx-64\n",
    "                          https://repo.anaconda.com/pkgs/main/noarch\n",
    "                          https://repo.anaconda.com/pkgs/free/osx-64\n",
    "                          https://repo.anaconda.com/pkgs/free/noarch\n",
    "                          https://repo.anaconda.com/pkgs/r/osx-64\n",
    "                          https://repo.anaconda.com/pkgs/r/noarch\n",
    "          package cache : /Users/zoomq/miniconda3/pkgs\n",
    "                          /Users/zoomq/.conda/pkgs\n",
    "       envs directories : /Users/zoomq/miniconda3/envs\n",
    "                          /Users/zoomq/.conda/envs\n",
    "               platform : osx-64\n",
    "             user-agent : conda/4.6.14 requests/2.21.0 CPython/3.7.3 Darwin/16.7.0 OSX/10.12.6\n",
    "                UID:GID : 501:20\n",
    "             netrc file : /Users/zoomq/.netrc\n",
    "           offline mode : False\n",
    "           \n",
    "\n",
    "\n",
    "༄  conda list\n",
    "# packages in environment at /Users/zoomq/miniconda3/envs/keras:\n",
    "#\n",
    "# Name                    Version                   Build  Channel\n",
    "absl-py                   0.8.0                    pypi_0    pypi\n",
    "appnope                   0.1.0                    pypi_0    pypi\n",
    "asn1crypto                0.24.0                   py37_0\n",
    "astor                     0.8.0                    pypi_0    pypi\n",
    "attrs                     19.1.0                   pypi_0    pypi\n",
    "backcall                  0.1.0                    pypi_0    pypi\n",
    "bleach                    3.1.0                    pypi_0    pypi\n",
    "ca-certificates           2019.5.15                     1\n",
    "certifi                   2019.6.16                py37_1\n",
    "cffi                      1.12.3           py37hb5b8e2f_0\n",
    "chardet                   3.0.4                 py37_1003\n",
    "cryptography              2.7              py37ha12b0ac_0\n",
    "cycler                    0.10.0                   pypi_0    pypi\n",
    "decorator                 4.4.0                    pypi_0    pypi\n",
    "defusedxml                0.6.0                    pypi_0    pypi\n",
    "entrypoints               0.3                      pypi_0    pypi\n",
    "gast                      0.2.2                    pypi_0    pypi\n",
    "google-pasta              0.1.7                    pypi_0    pypi\n",
    "grpcio                    1.23.0                   pypi_0    pypi\n",
    "h5py                      2.9.0                    pypi_0    pypi\n",
    "idna                      2.8                      py37_0\n",
    "ipykernel                 5.1.2                    pypi_0    pypi\n",
    "ipython                   7.8.0                    pypi_0    pypi\n",
    "ipython-genutils          0.2.0                    pypi_0    pypi\n",
    "ipywidgets                7.5.1                    pypi_0    pypi\n",
    "jedi                      0.15.1                   pypi_0    pypi\n",
    "jinja2                    2.10.1                   pypi_0    pypi\n",
    "jsonschema                3.0.2                    pypi_0    pypi\n",
    "jupyter                   1.0.0                    pypi_0    pypi\n",
    "jupyter-client            5.3.1                    pypi_0    pypi\n",
    "jupyter-console           6.0.0                    pypi_0    pypi\n",
    "jupyter-core              4.5.0                    pypi_0    pypi\n",
    "keras                     2.2.5                    pypi_0    pypi\n",
    "keras-applications        1.0.8                    pypi_0    pypi\n",
    "keras-preprocessing       1.1.0                    pypi_0    pypi\n",
    "kiwisolver                1.1.0                    pypi_0    pypi\n",
    "libcxx                    4.0.1                hcfea43d_1\n",
    "libcxxabi                 4.0.1                hcfea43d_1\n",
    "libedit                   3.1.20181209         hb402a30_0\n",
    "libffi                    3.2.1                h475c297_4\n",
    "markdown                  3.1.1                    pypi_0    pypi\n",
    "markupsafe                1.1.1                    pypi_0    pypi\n",
    "matplotlib                3.1.1                    pypi_0    pypi\n",
    "mistune                   0.8.4                    pypi_0    pypi\n",
    "nbconvert                 5.6.0                    pypi_0    pypi\n",
    "nbformat                  4.4.0                    pypi_0    pypi\n",
    "ncurses                   6.1                  h0a44026_1\n",
    "notebook                  6.0.1                    pypi_0    pypi\n",
    "numpy                     1.17.1                   pypi_0    pypi\n",
    "openssl                   1.1.1c               h1de35cc_1\n",
    "pandocfilters             1.4.2                    pypi_0    pypi\n",
    "parso                     0.5.1                    pypi_0    pypi\n",
    "pexpect                   4.7.0                    pypi_0    pypi\n",
    "pickleshare               0.7.5                    pypi_0    pypi\n",
    "pip                       19.2.2                   py37_0\n",
    "prometheus-client         0.7.1                    pypi_0    pypi\n",
    "prompt-toolkit            2.0.9                    pypi_0    pypi\n",
    "protobuf                  3.9.1                    pypi_0    pypi\n",
    "ptyprocess                0.6.0                    pypi_0    pypi\n",
    "pycosat                   0.6.3            py37h1de35cc_0\n",
    "pycparser                 2.19                     py37_0\n",
    "pydot                     1.4.1                    pypi_0    pypi\n",
    "pygments                  2.4.2                    pypi_0    pypi\n",
    "pyopenssl                 19.0.0                   py37_0\n",
    "pyparsing                 2.4.2                    pypi_0    pypi\n",
    "pyrsistent                0.15.4                   pypi_0    pypi\n",
    "pysocks                   1.7.0                    py37_0\n",
    "python                    3.7.4                h359304d_1\n",
    "python-dateutil           2.8.0                    pypi_0    pypi\n",
    "python.app                2                        py37_9\n",
    "pyyaml                    5.1.2                    pypi_0    pypi\n",
    "pyzmq                     18.1.0                   pypi_0    pypi\n",
    "qtconsole                 4.5.5                    pypi_0    pypi\n",
    "readline                  7.0                  h1de35cc_5\n",
    "requests                  2.22.0                   py37_0\n",
    "ruamel_yaml               0.15.46          py37h1de35cc_0\n",
    "scipy                     1.3.1                    pypi_0    pypi\n",
    "send2trash                1.5.0                    pypi_0    pypi\n",
    "setuptools                41.0.1                   py37_0\n",
    "six                       1.12.0                   py37_0\n",
    "sqlite                    3.29.0               ha441bb4_0\n",
    "tensorboard               1.14.0                   pypi_0    pypi\n",
    "tensorflow                1.14.0                   pypi_0    pypi\n",
    "tensorflow-estimator      1.14.0                   pypi_0    pypi\n",
    "termcolor                 1.1.0                    pypi_0    pypi\n",
    "terminado                 0.8.2                    pypi_0    pypi\n",
    "testpath                  0.4.2                    pypi_0    pypi\n",
    "tk                        8.6.8                ha441bb4_0\n",
    "tornado                   6.0.3                    pypi_0    pypi\n",
    "traitlets                 4.3.2                    pypi_0    pypi\n",
    "urllib3                   1.24.2                   py37_0\n",
    "wcwidth                   0.1.7                    pypi_0    pypi\n",
    "webencodings              0.5.1                    pypi_0    pypi\n",
    "werkzeug                  0.15.6                   pypi_0    pypi\n",
    "wheel                     0.33.4                   py37_0\n",
    "widgetsnbextension        3.5.1                    pypi_0    pypi\n",
    "wrapt                     1.11.2                   pypi_0    pypi\n",
    "xz                        5.2.4                h1de35cc_4\n",
    "yaml                      0.1.7                hc338f04_2\n",
    "zlib                      1.2.11               h1de35cc_3\n",
    "\n",
    "```\n",
    "\n"
   ]
  },
  {
   "cell_type": "code",
   "execution_count": null,
   "metadata": {},
   "outputs": [],
   "source": []
  },
  {
   "cell_type": "code",
   "execution_count": null,
   "metadata": {},
   "outputs": [],
   "source": []
  }
 ],
 "metadata": {
  "kernelspec": {
   "display_name": "Python 3",
   "language": "python",
   "name": "python3"
  },
  "language_info": {
   "codemirror_mode": {
    "name": "ipython",
    "version": 3
   },
   "file_extension": ".py",
   "mimetype": "text/x-python",
   "name": "python",
   "nbconvert_exporter": "python",
   "pygments_lexer": "ipython3",
   "version": "3.6.3"
  },
  "toc": {
   "nav_menu": {},
   "number_sections": true,
   "sideBar": true,
   "skip_h1_title": false,
   "toc_cell": false,
   "toc_position": {},
   "toc_section_display": "block",
   "toc_window_display": false
  }
 },
 "nbformat": 4,
 "nbformat_minor": 2
}
